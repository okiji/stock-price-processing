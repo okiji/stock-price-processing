{
  "nbformat": 4,
  "nbformat_minor": 0,
  "metadata": {
    "colab": {
      "name": "get_stock_price",
      "provenance": [],
      "collapsed_sections": [],
      "authorship_tag": "ABX9TyOF7HHD60OwRlrGT2t5YpCH",
      "include_colab_link": true
    },
    "kernelspec": {
      "name": "python3",
      "display_name": "Python 3"
    }
  },
  "cells": [
    {
      "cell_type": "markdown",
      "metadata": {
        "id": "view-in-github",
        "colab_type": "text"
      },
      "source": [
        "<a href=\"https://colab.research.google.com/github/okiji/stock-price-processing/blob/master/get_stock_price.ipynb\" target=\"_parent\"><img src=\"https://colab.research.google.com/assets/colab-badge.svg\" alt=\"Open In Colab\"/></a>"
      ]
    },
    {
      "cell_type": "code",
      "metadata": {
        "id": "FqM_7-F7xRBw",
        "colab_type": "code",
        "outputId": "201fe7e6-5aac-48ab-e5b4-6e3c74e7847f",
        "colab": {
          "base_uri": "https://localhost:8080/",
          "height": 1000
        }
      },
      "source": [
        "!apt-get update\n",
        "!apt install chromium-chromedriver\n",
        "!cp /usr/lib/chromium-browser/chromedriver /usr/bin\n",
        "!pip install selenium"
      ],
      "execution_count": 0,
      "outputs": [
        {
          "output_type": "stream",
          "text": [
            "\r0% [Working]\r            \rGet:1 https://cloud.r-project.org/bin/linux/ubuntu bionic-cran35/ InRelease [3,626 B]\n",
            "\r0% [Connecting to archive.ubuntu.com (91.189.88.152)] [Waiting for headers] [1 \r0% [Connecting to archive.ubuntu.com (91.189.88.152)] [Waiting for headers] [Wa\r0% [1 InRelease gpgv 3,626 B] [Connecting to archive.ubuntu.com (91.189.88.152)\r                                                                               \rIgn:2 https://developer.download.nvidia.com/compute/cuda/repos/ubuntu1804/x86_64  InRelease\n",
            "\r0% [1 InRelease gpgv 3,626 B] [Waiting for headers] [Waiting for headers] [Wait\r                                                                               \rGet:3 http://security.ubuntu.com/ubuntu bionic-security InRelease [88.7 kB]\n",
            "\r0% [1 InRelease gpgv 3,626 B] [Waiting for headers] [3 InRelease 2,586 B/88.7 k\r                                                                               \rGet:4 http://ppa.launchpad.net/graphics-drivers/ppa/ubuntu bionic InRelease [21.3 kB]\n",
            "\r0% [1 InRelease gpgv 3,626 B] [Waiting for headers] [3 InRelease 2,586 B/88.7 k\r                                                                               \rHit:5 http://archive.ubuntu.com/ubuntu bionic InRelease\n",
            "\r0% [1 InRelease gpgv 3,626 B] [Waiting for headers] [3 InRelease 11.3 kB/88.7 k\r                                                                               \rIgn:6 https://developer.download.nvidia.com/compute/machine-learning/repos/ubuntu1804/x86_64  InRelease\n",
            "\r0% [1 InRelease gpgv 3,626 B] [Waiting for headers] [3 InRelease 11.3 kB/88.7 k\r                                                                               \rHit:7 https://developer.download.nvidia.com/compute/cuda/repos/ubuntu1804/x86_64  Release\n",
            "\r0% [1 InRelease gpgv 3,626 B] [Waiting for headers] [3 InRelease 14.2 kB/88.7 k\r                                                                               \rHit:8 https://developer.download.nvidia.com/compute/machine-learning/repos/ubuntu1804/x86_64  Release\n",
            "\r0% [1 InRelease gpgv 3,626 B] [Waiting for headers] [3 InRelease 14.2 kB/88.7 k\r0% [1 InRelease gpgv 3,626 B] [Waiting for headers] [3 InRelease 20.0 kB/88.7 k\r                                                                               \rGet:9 http://archive.ubuntu.com/ubuntu bionic-updates InRelease [88.7 kB]\n",
            "\r0% [1 InRelease gpgv 3,626 B] [9 InRelease 2,601 B/88.7 kB 3%] [3 InRelease 25.\r0% [9 InRelease 15.6 kB/88.7 kB 18%] [3 InRelease 46.0 kB/88.7 kB 52%] [Connect\r0% [5 InRelease gpgv 242 kB] [9 InRelease 15.6 kB/88.7 kB 18%] [3 InRelease 46.\r                                                                               \rGet:10 https://cloud.r-project.org/bin/linux/ubuntu bionic-cran35/ Packages [88.1 kB]\n",
            "\r0% [5 InRelease gpgv 242 kB] [9 InRelease 18.5 kB/88.7 kB 21%] [3 InRelease 63.\r0% [5 InRelease gpgv 242 kB] [9 InRelease 30.1 kB/88.7 kB 34%] [3 InRelease 83.\r0% [10 Packages store 0 B] [5 InRelease gpgv 242 kB] [9 InRelease 30.1 kB/88.7 \r0% [10 Packages store 0 B] [5 InRelease gpgv 242 kB] [9 InRelease 33.0 kB/88.7 \r0% [5 InRelease gpgv 242 kB] [9 InRelease 37.4 kB/88.7 kB 42%] [Waiting for hea\r                                                                               \rGet:11 http://ppa.launchpad.net/marutter/c2d4u3.5/ubuntu bionic InRelease [15.4 kB]\n",
            "Get:12 http://archive.ubuntu.com/ubuntu bionic-backports InRelease [74.6 kB]\n",
            "Get:15 http://ppa.launchpad.net/graphics-drivers/ppa/ubuntu bionic/main amd64 Packages [37.4 kB]\n",
            "Get:16 http://security.ubuntu.com/ubuntu bionic-security/main amd64 Packages [889 kB]\n",
            "Get:17 http://ppa.launchpad.net/marutter/c2d4u3.5/ubuntu bionic/main Sources [1,811 kB]\n",
            "Get:18 http://archive.ubuntu.com/ubuntu bionic-updates/multiverse amd64 Packages [12.6 kB]\n",
            "Get:19 http://security.ubuntu.com/ubuntu bionic-security/multiverse amd64 Packages [8,213 B]\n",
            "Get:20 http://security.ubuntu.com/ubuntu bionic-security/universe amd64 Packages [839 kB]\n",
            "Get:21 http://archive.ubuntu.com/ubuntu bionic-updates/universe amd64 Packages [1,372 kB]\n",
            "Get:22 http://security.ubuntu.com/ubuntu bionic-security/restricted amd64 Packages [44.6 kB]\n",
            "Get:23 http://archive.ubuntu.com/ubuntu bionic-updates/restricted amd64 Packages [59.0 kB]\n",
            "Get:24 http://archive.ubuntu.com/ubuntu bionic-updates/main amd64 Packages [1,185 kB]\n",
            "Get:25 http://archive.ubuntu.com/ubuntu bionic-backports/main amd64 Packages [8,286 B]\n",
            "Get:26 http://archive.ubuntu.com/ubuntu bionic-backports/universe amd64 Packages [7,674 B]\n",
            "Get:27 http://ppa.launchpad.net/marutter/c2d4u3.5/ubuntu bionic/main amd64 Packages [874 kB]\n",
            "Fetched 7,528 kB in 3s (2,460 kB/s)\n",
            "Reading package lists... Done\n",
            "Reading package lists... Done\n",
            "Building dependency tree       \n",
            "Reading state information... Done\n",
            "The following additional packages will be installed:\n",
            "  chromium-browser chromium-browser-l10n chromium-codecs-ffmpeg-extra\n",
            "Suggested packages:\n",
            "  webaccounts-chromium-extension unity-chromium-extension adobe-flashplugin\n",
            "The following NEW packages will be installed:\n",
            "  chromium-browser chromium-browser-l10n chromium-chromedriver\n",
            "  chromium-codecs-ffmpeg-extra\n",
            "0 upgraded, 4 newly installed, 0 to remove and 82 not upgraded.\n",
            "Need to get 74.4 MB of archives.\n",
            "After this operation, 264 MB of additional disk space will be used.\n",
            "Get:1 http://archive.ubuntu.com/ubuntu bionic-updates/universe amd64 chromium-codecs-ffmpeg-extra amd64 80.0.3987.163-0ubuntu0.18.04.1 [1,095 kB]\n",
            "Get:2 http://archive.ubuntu.com/ubuntu bionic-updates/universe amd64 chromium-browser amd64 80.0.3987.163-0ubuntu0.18.04.1 [66.1 MB]\n",
            "Get:3 http://archive.ubuntu.com/ubuntu bionic-updates/universe amd64 chromium-browser-l10n all 80.0.3987.163-0ubuntu0.18.04.1 [3,160 kB]\n",
            "Get:4 http://archive.ubuntu.com/ubuntu bionic-updates/universe amd64 chromium-chromedriver amd64 80.0.3987.163-0ubuntu0.18.04.1 [4,045 kB]\n",
            "Fetched 74.4 MB in 3s (23.6 MB/s)\n",
            "Selecting previously unselected package chromium-codecs-ffmpeg-extra.\n",
            "(Reading database ... 144568 files and directories currently installed.)\n",
            "Preparing to unpack .../chromium-codecs-ffmpeg-extra_80.0.3987.163-0ubuntu0.18.04.1_amd64.deb ...\n",
            "Unpacking chromium-codecs-ffmpeg-extra (80.0.3987.163-0ubuntu0.18.04.1) ...\n",
            "Selecting previously unselected package chromium-browser.\n",
            "Preparing to unpack .../chromium-browser_80.0.3987.163-0ubuntu0.18.04.1_amd64.deb ...\n",
            "Unpacking chromium-browser (80.0.3987.163-0ubuntu0.18.04.1) ...\n",
            "Selecting previously unselected package chromium-browser-l10n.\n",
            "Preparing to unpack .../chromium-browser-l10n_80.0.3987.163-0ubuntu0.18.04.1_all.deb ...\n",
            "Unpacking chromium-browser-l10n (80.0.3987.163-0ubuntu0.18.04.1) ...\n",
            "Selecting previously unselected package chromium-chromedriver.\n",
            "Preparing to unpack .../chromium-chromedriver_80.0.3987.163-0ubuntu0.18.04.1_amd64.deb ...\n",
            "Unpacking chromium-chromedriver (80.0.3987.163-0ubuntu0.18.04.1) ...\n",
            "Setting up chromium-codecs-ffmpeg-extra (80.0.3987.163-0ubuntu0.18.04.1) ...\n",
            "Setting up chromium-browser (80.0.3987.163-0ubuntu0.18.04.1) ...\n",
            "update-alternatives: using /usr/bin/chromium-browser to provide /usr/bin/x-www-browser (x-www-browser) in auto mode\n",
            "update-alternatives: using /usr/bin/chromium-browser to provide /usr/bin/gnome-www-browser (gnome-www-browser) in auto mode\n",
            "Setting up chromium-chromedriver (80.0.3987.163-0ubuntu0.18.04.1) ...\n",
            "Setting up chromium-browser-l10n (80.0.3987.163-0ubuntu0.18.04.1) ...\n",
            "Processing triggers for hicolor-icon-theme (0.17-2) ...\n",
            "Processing triggers for mime-support (3.60ubuntu1) ...\n",
            "Processing triggers for man-db (2.8.3-2ubuntu0.1) ...\n",
            "cp: '/usr/lib/chromium-browser/chromedriver' and '/usr/bin/chromedriver' are the same file\n",
            "Collecting selenium\n",
            "\u001b[?25l  Downloading https://files.pythonhosted.org/packages/80/d6/4294f0b4bce4de0abf13e17190289f9d0613b0a44e5dd6a7f5ca98459853/selenium-3.141.0-py2.py3-none-any.whl (904kB)\n",
            "\u001b[K     |████████████████████████████████| 911kB 2.8MB/s \n",
            "\u001b[?25hRequirement already satisfied: urllib3 in /usr/local/lib/python3.6/dist-packages (from selenium) (1.24.3)\n",
            "Installing collected packages: selenium\n",
            "Successfully installed selenium-3.141.0\n"
          ],
          "name": "stdout"
        }
      ]
    },
    {
      "cell_type": "code",
      "metadata": {
        "id": "M7N3xHMYucLW",
        "colab_type": "code",
        "outputId": "a371f96d-5b3f-4e41-db83-d6caeb8c5912",
        "colab": {
          "base_uri": "https://localhost:8080/",
          "height": 122
        }
      },
      "source": [
        "# google driveをマウント\n",
        "# 実行時に認証URLが出るので、そこのコードを貼り付けて認証する\n",
        "# ランタイムのリセット毎に必要\n",
        "from google.colab import drive\n",
        "drive.mount('./gdrive')"
      ],
      "execution_count": 0,
      "outputs": [
        {
          "output_type": "stream",
          "text": [
            "Go to this URL in a browser: https://accounts.google.com/o/oauth2/auth?client_id=947318989803-6bn6qk8qdgf4n4g3pfee6491hc0brc4i.apps.googleusercontent.com&redirect_uri=urn%3aietf%3awg%3aoauth%3a2.0%3aoob&response_type=code&scope=email%20https%3a%2f%2fwww.googleapis.com%2fauth%2fdocs.test%20https%3a%2f%2fwww.googleapis.com%2fauth%2fdrive%20https%3a%2f%2fwww.googleapis.com%2fauth%2fdrive.photos.readonly%20https%3a%2f%2fwww.googleapis.com%2fauth%2fpeopleapi.readonly\n",
            "\n",
            "Enter your authorization code:\n",
            "··········\n",
            "Mounted at ./gdrive\n"
          ],
          "name": "stdout"
        }
      ]
    },
    {
      "cell_type": "code",
      "metadata": {
        "id": "q9RrBTpo5zEW",
        "colab_type": "code",
        "outputId": "a1599f40-6c84-43c6-fc61-ec38b8cf92a9",
        "colab": {
          "base_uri": "https://localhost:8080/",
          "height": 51
        }
      },
      "source": [
        "# マウントできたか確認\n",
        "!ls \"./gdrive/My Drive/\""
      ],
      "execution_count": 0,
      "outputs": [
        {
          "output_type": "stream",
          "text": [
            "'Colab Notebooks'\t\t       stock_value_2020-2020_6577-6555.csv\n",
            " stock_value_2018-2020_3687-7751.csv\n"
          ],
          "name": "stdout"
        }
      ]
    },
    {
      "cell_type": "code",
      "metadata": {
        "id": "F8eFeVf0xM77",
        "colab_type": "code",
        "outputId": "99573dbd-b662-4ff8-afa5-675aca45be36",
        "colab": {
          "base_uri": "https://localhost:8080/",
          "height": 1000
        }
      },
      "source": [
        "import pandas as pd\n",
        "from selenium import webdriver\n",
        "from selenium.webdriver.chrome.options import Options\n",
        "\n",
        "# 情報が無い期間を指定すると空白になるので、学習前にデータの空白がある行は取り除く\n",
        "# 後ほどデータ収集時に加工するように変更する\n",
        "start_year = 2018\n",
        "end_year = 2020\n",
        "\n",
        "# 銘柄コード　\n",
        "stock_numbers = [3687, 7751, 4307, 2327, 3915] \n",
        "\n",
        "# cookieに阻まれてbs4を使うのは面倒。seleniumを使う\n",
        "options = Options()\n",
        "options.add_argument(\"--headless\")\n",
        "options.add_argument(\"--no-sandbox\")\n",
        "options.add_argument(\"--disable-dev-shm-usage\")\n",
        "\n",
        "browser = webdriver.Chrome(\"chromedriver\", chrome_options = options)\n",
        "\n",
        "df_summary = pd.DataFrame()\n",
        "\n",
        "for stock_index, stock_number in enumerate(stock_numbers):\n",
        "  \n",
        "  df = pd.DataFrame()\n",
        "  dates = []\n",
        "  values = []\n",
        "  \n",
        "  for year in range(start_year, end_year + 1):\n",
        "      url = \"https://kabuoji3.com/stock/{}/{}/\".format(stock_number, year)\n",
        "   \n",
        "      browser.get(url)\n",
        "\n",
        "      # elementが見つからない時は10s探す\n",
        "      browser.implicitly_wait(10)\n",
        "\n",
        "      elems_tr = browser.find_elements_by_tag_name(\"tr\")\n",
        "\n",
        "      # ヘッダ行は除く\n",
        "      for i in range(1, len(elems_tr)):\n",
        "          elems_td = elems_tr[i].find_elements_by_tag_name(\"td\")\n",
        "          \n",
        "          # 日時と終値を取得\n",
        "          dates.append(elems_td[0].text)\n",
        "          values.append(elems_td[4].text)      \n",
        "\n",
        "  df[\"date\"] = dates\n",
        "  df[\"value_{}\".format(stock_number)] = values\n",
        "  print(df)\n",
        "\n",
        "  if stock_index == 0:\n",
        "    df_summary = df\n",
        "  else:\n",
        "    df_summary = pd.merge(df_summary, df, on=\"date\")\n",
        "\n",
        "drive_root_dir=\"./gdrive/My Drive/\"\n",
        "output_filename = drive_root_dir\n",
        "output_filename += \"stock_value_{}-{}_\".format(start_year, end_year)\n",
        "\n",
        "for i, stock_number in enumerate(stock_numbers):\n",
        "  if i != len(stock_numbers) - 1:\n",
        "    output_filename += str(stock_number)\n",
        "    output_filename += \"-\"\n",
        "  else:\n",
        "    output_filename += str(stock_number)\n",
        "    output_filename += \".csv\"\n",
        "\n",
        "df_summary.to_csv(output_filename, index=False, header = False)"
      ],
      "execution_count": 0,
      "outputs": [
        {
          "output_type": "stream",
          "text": [
            "/usr/local/lib/python3.6/dist-packages/ipykernel_launcher.py:20: DeprecationWarning: use options instead of chrome_options\n"
          ],
          "name": "stderr"
        },
        {
          "output_type": "stream",
          "text": [
            "           date value_3687\n",
            "0    2018-01-04       6260\n",
            "1    2018-01-05       6190\n",
            "2    2018-01-09       6030\n",
            "3    2018-01-10       6180\n",
            "4    2018-01-11       6500\n",
            "..          ...        ...\n",
            "554  2020-04-15       1100\n",
            "555  2020-04-16       1100\n",
            "556  2020-04-17       1073\n",
            "557  2020-04-20       1081\n",
            "558  2020-04-21       1041\n",
            "\n",
            "[559 rows x 2 columns]\n",
            "           date value_7751\n",
            "0    2018-01-04       4279\n",
            "1    2018-01-05       4262\n",
            "2    2018-01-09       4358\n",
            "3    2018-01-10       4332\n",
            "4    2018-01-11       4336\n",
            "..          ...        ...\n",
            "554  2020-04-15     2272.5\n",
            "555  2020-04-16       2218\n",
            "556  2020-04-17       2260\n",
            "557  2020-04-20       2243\n",
            "558  2020-04-21       2202\n",
            "\n",
            "[559 rows x 2 columns]\n",
            "           date value_4307\n",
            "0    2018-01-04       5410\n",
            "1    2018-01-05       5360\n",
            "2    2018-01-09       5330\n",
            "3    2018-01-10       5350\n",
            "4    2018-01-11       5270\n",
            "..          ...        ...\n",
            "554  2020-04-15       2637\n",
            "555  2020-04-16       2585\n",
            "556  2020-04-17       2585\n",
            "557  2020-04-20       2595\n",
            "558  2020-04-21       2627\n",
            "\n",
            "[559 rows x 2 columns]\n",
            "           date value_2327\n",
            "0    2018-01-04       3145\n",
            "1    2018-01-05       3145\n",
            "2    2018-01-09       3105\n",
            "3    2018-01-10       3115\n",
            "4    2018-01-11       3070\n",
            "..          ...        ...\n",
            "554  2020-04-15       2738\n",
            "555  2020-04-16       2732\n",
            "556  2020-04-17       2731\n",
            "557  2020-04-20       2775\n",
            "558  2020-04-21       2720\n",
            "\n",
            "[559 rows x 2 columns]\n",
            "           date value_3915\n",
            "0    2018-01-04       7990\n",
            "1    2018-01-05       7900\n",
            "2    2018-01-09       8080\n",
            "3    2018-01-10       7900\n",
            "4    2018-01-11       8280\n",
            "..          ...        ...\n",
            "553  2020-04-15       2650\n",
            "554  2020-04-16       2629\n",
            "555  2020-04-17       2569\n",
            "556  2020-04-20       2425\n",
            "557  2020-04-21       2218\n",
            "\n",
            "[558 rows x 2 columns]\n"
          ],
          "name": "stdout"
        }
      ]
    },
    {
      "cell_type": "code",
      "metadata": {
        "id": "gf4BexZ8Ix9z",
        "colab_type": "code",
        "colab": {}
      },
      "source": [
        "import matplotlib as mpl\n",
        "import matplotlib.pyplot as plt"
      ],
      "execution_count": 0,
      "outputs": []
    },
    {
      "cell_type": "code",
      "metadata": {
        "id": "gvuRn_7QUZJn",
        "colab_type": "code",
        "outputId": "45c1769f-4daa-49c0-a50a-3f6f37e15e45",
        "colab": {
          "base_uri": "https://localhost:8080/",
          "height": 282
        }
      },
      "source": [
        "df_plot = df_summary.iloc[:,1:6].astype(\"float64\")\n",
        "df_plot.plot()"
      ],
      "execution_count": 0,
      "outputs": [
        {
          "output_type": "execute_result",
          "data": {
            "text/plain": [
              "<matplotlib.axes._subplots.AxesSubplot at 0x7faf12eb6e80>"
            ]
          },
          "metadata": {
            "tags": []
          },
          "execution_count": 14
        },
        {
          "output_type": "display_data",
          "data": {
            "image/png": "[encoded data removed]",
            "text/plain": [
              "<Figure size 432x288 with 1 Axes>"
            ]
          },
          "metadata": {
            "tags": [],
            "needs_background": "light"
          }
        }
      ]
    },
    {
      "cell_type": "code",
      "metadata": {
        "id": "YqAA3TrSUcQp",
        "colab_type": "code",
        "outputId": "9c9293aa-6cf4-449e-fb72-81761c7eff32",
        "colab": {
          "base_uri": "https://localhost:8080/",
          "height": 136
        }
      },
      "source": [
        "df_summary.dtypes"
      ],
      "execution_count": 0,
      "outputs": [
        {
          "output_type": "execute_result",
          "data": {
            "text/plain": [
              "date          object\n",
              "value_3687    object\n",
              "value_7751    object\n",
              "value_4307    object\n",
              "value_2327    object\n",
              "value_3915    object\n",
              "dtype: object"
            ]
          },
          "metadata": {
            "tags": []
          },
          "execution_count": 11
        }
      ]
    },
    {
      "cell_type": "code",
      "metadata": {
        "id": "O5PX1sxTVLjv",
        "colab_type": "code",
        "colab": {}
      },
      "source": [
        ""
      ],
      "execution_count": 0,
      "outputs": []
    }
  ]
}